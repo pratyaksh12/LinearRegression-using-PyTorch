{
  "nbformat": 4,
  "nbformat_minor": 0,
  "metadata": {
    "colab": {
      "name": "01_pytorch_workflow_exercises.ipynb",
      "provenance": [],
      "gpuType": "T4",
      "include_colab_link": true
    },
    "kernelspec": {
      "name": "python3",
      "display_name": "Python 3"
    },
    "language_info": {
      "name": "python"
    },
    "accelerator": "GPU"
  },
  "cells": [
    {
      "cell_type": "markdown",
      "metadata": {
        "id": "view-in-github",
        "colab_type": "text"
      },
      "source": [
        "<a href=\"https://colab.research.google.com/github/pratyaksh12/LinearRegression-using-PyTorch/blob/main/extras/exercises/01_pytorch_workflow_exercises.ipynb\" target=\"_parent\"><img src=\"https://colab.research.google.com/assets/colab-badge.svg\" alt=\"Open In Colab\"/></a>"
      ]
    },
    {
      "cell_type": "markdown",
      "source": [
        "# 01. PyTorch Workflow Exercise Template\n",
        "\n",
        "The following is a template for the PyTorch workflow exercises.\n",
        "\n",
        "It's only starter code and it's your job to fill in the blanks.\n",
        "\n",
        "Because of the flexibility of PyTorch, there may be more than one way to answer the question.\n",
        "\n",
        "Don't worry about trying to be *right* just try writing code that suffices the question.\n",
        "\n",
        "You can see one form of [solutions on GitHub](https://github.com/mrdbourke/pytorch-deep-learning/tree/main/extras/solutions) (but try the exercises below yourself first!)."
      ],
      "metadata": {
        "id": "N8LsPXZti9Sw"
      }
    },
    {
      "cell_type": "code",
      "source": [
        "# Import necessary libraries\n",
        "import torch\n",
        "from torch import nn\n",
        "import matplotlib.pyplot as plt\n",
        "import numpy"
      ],
      "metadata": {
        "id": "Glu2fM4dkNlx"
      },
      "execution_count": 1,
      "outputs": []
    },
    {
      "cell_type": "code",
      "source": [
        "# Setup device-agnostic code\n"
      ],
      "metadata": {
        "id": "LqKhXY26m31s"
      },
      "execution_count": null,
      "outputs": []
    },
    {
      "cell_type": "markdown",
      "source": [
        "## 1. Create a straight line dataset using the linear regression formula (`weight * X + bias`).\n",
        "  * Set `weight=0.3` and `bias=0.9` there should be at least 100 datapoints total.\n",
        "  * Split the data into 80% training, 20% testing.\n",
        "  * Plot the training and testing data so it becomes visual.\n",
        "\n",
        "Your output of the below cell should look something like:\n",
        "```\n",
        "Number of X samples: 100\n",
        "Number of y samples: 100\n",
        "First 10 X & y samples:\n",
        "X: tensor([0.0000, 0.0100, 0.0200, 0.0300, 0.0400, 0.0500, 0.0600, 0.0700, 0.0800,\n",
        "        0.0900])\n",
        "y: tensor([0.9000, 0.9030, 0.9060, 0.9090, 0.9120, 0.9150, 0.9180, 0.9210, 0.9240,\n",
        "        0.9270])\n",
        "```\n",
        "\n",
        "Of course the numbers in `X` and `y` may be different but ideally they're created using the linear regression formula."
      ],
      "metadata": {
        "id": "g7HUhxCxjeBx"
      }
    },
    {
      "cell_type": "code",
      "source": [
        "# Create the data parameters\n",
        "X = torch.arange(1, 101, 1)\n",
        "weight = 0.3\n",
        "bias = 0.9\n",
        "Y = (X * weight) + bias\n",
        "\n",
        "\n",
        "# Make X and y using linear regression feature\n",
        "\n",
        "\n",
        "print(f\"Number of X samples: {len(X)}\")\n",
        "print(f\"Number of y samples: {len(Y)}\")\n",
        "print(f\"First 10 X & y samples:\\nX: {X[:10]}\\ny: {Y[:10]}\")"
      ],
      "metadata": {
        "id": "KbDG5MV7jhvE",
        "outputId": "28cbfce1-6830-4e9b-8f7a-c0960025ddc5",
        "colab": {
          "base_uri": "https://localhost:8080/"
        }
      },
      "execution_count": 4,
      "outputs": [
        {
          "output_type": "stream",
          "name": "stdout",
          "text": [
            "Number of X samples: 100\n",
            "Number of y samples: 100\n",
            "First 10 X & y samples:\n",
            "X: tensor([ 1,  2,  3,  4,  5,  6,  7,  8,  9, 10])\n",
            "y: tensor([1.2000, 1.5000, 1.8000, 2.1000, 2.4000, 2.7000, 3.0000, 3.3000, 3.6000,\n",
            "        3.9000])\n"
          ]
        }
      ]
    },
    {
      "cell_type": "code",
      "source": [
        "# Split the data into training and testing\n",
        "from sklearn.model_selection import train_test_split\n",
        "\n",
        "X_train, X_test, Y_train, Y_test = train_test_split(torch.Tensor.numpy(X), torch.Tensor.numpy(Y), test_size = 0.2)\n",
        "X_train = torch.from_numpy(X_train).to('cuda')\n",
        "X_test = torch.from_numpy(X_test).to('cuda')\n",
        "Y_train = torch.from_numpy(Y_train).to('cuda')\n",
        "Y_test = torch.from_numpy(Y_test).to('cuda')"
      ],
      "metadata": {
        "id": "GlwtT1djkmLw"
      },
      "execution_count": 25,
      "outputs": []
    },
    {
      "cell_type": "code",
      "source": [
        "# Plot the training and testing data\n",
        "def plot_data(x_train = X_train.cpu(), y_train = Y_train.cpu(), x_test = X_test.cpu(), y_test = Y_test.cpu(), prediction = None):\n",
        "  plt.scatter(x_train, y_train, c='r', s= 4, label = \"Training set\")\n",
        "  plt.scatter(x_test, y_test, c='g', s= 4, label = \"Testing set\")\n",
        "  if prediction is not None:\n",
        "    plt.scatter(x_test, prediction.cpu(), color = 'b', s= 4, label = \"predictions\")\n",
        "  plt.legend(prop = {'size' : 10})\n",
        "\n",
        "plot_data()\n"
      ],
      "metadata": {
        "id": "29iQZFNhlYJ-",
        "outputId": "3c219e52-ac26-4998-e61e-7ebe116caa4e",
        "colab": {
          "base_uri": "https://localhost:8080/",
          "height": 430
        }
      },
      "execution_count": 60,
      "outputs": [
        {
          "output_type": "display_data",
          "data": {
            "text/plain": [
              "<Figure size 640x480 with 1 Axes>"
            ],
            "image/png": "[encoded data removed]"
          },
          "metadata": {}
        }
      ]
    },
    {
      "cell_type": "markdown",
      "source": [
        "## 2. Build a PyTorch model by subclassing `nn.Module`.\n",
        "  * Inside should be a randomly initialized `nn.Parameter()` with `requires_grad=True`, one for `weights` and one for `bias`.\n",
        "  * Implement the `forward()` method to compute the linear regression function you used to create the dataset in 1.\n",
        "  * Once you've constructed the model, make an instance of it and check its `state_dict()`.\n",
        "  * **Note:** If you'd like to use `nn.Linear()` instead of `nn.Parameter()` you can."
      ],
      "metadata": {
        "id": "ImZoe3v8jif8"
      }
    },
    {
      "cell_type": "code",
      "source": [
        "# Create PyTorch linear regression model by subclassing nn.Module\n",
        "class LinearRegression(nn.Module):\n",
        "  def __init__(self):\n",
        "    super().__init__()\n",
        "    self.bias = nn.Parameter(torch.randn(1, requires_grad = True, dtype = torch.float32))\n",
        "    self.weight = nn.Parameter(torch.randn(1, requires_grad = True, dtype = torch.float32))\n",
        "\n",
        "  def forward(self, data: torch.Tensor) -> torch.Tensor:\n",
        "    output = (data * self.weight) + self.bias\n",
        "    return output"
      ],
      "metadata": {
        "id": "qzd__Y5rjtB8"
      },
      "execution_count": 35,
      "outputs": []
    },
    {
      "cell_type": "code",
      "source": [
        "# Instantiate the model and put it to the target device\n",
        "model = LinearRegression()\n",
        "model.to('cuda')"
      ],
      "metadata": {
        "id": "5LdcDnmOmyQ2",
        "outputId": "82a8090d-1138-4124-e8fe-348844c730b8",
        "colab": {
          "base_uri": "https://localhost:8080/"
        }
      },
      "execution_count": 36,
      "outputs": [
        {
          "output_type": "execute_result",
          "data": {
            "text/plain": [
              "LinearRegression()"
            ]
          },
          "metadata": {},
          "execution_count": 36
        }
      ]
    },
    {
      "cell_type": "markdown",
      "source": [
        "## 3. Create a loss function and optimizer using `nn.L1Loss()` and `torch.optim.SGD(params, lr)` respectively.\n",
        "  * Set the learning rate of the optimizer to be 0.01 and the parameters to optimize should be the model parameters from the model you created in 2.\n",
        "  * Write a training loop to perform the appropriate training steps for 300 epochs.\n",
        "  * The training loop should test the model on the test dataset every 20 epochs."
      ],
      "metadata": {
        "id": "G6nYOrJhjtfu"
      }
    },
    {
      "cell_type": "code",
      "source": [
        "# Create the loss function and optimizer\n",
        "loss_function = nn.L1Loss()\n",
        "optimizer = torch.optim.SGD(model.parameters(), lr = 0.01)"
      ],
      "metadata": {
        "id": "ltvoZ-FWjv1j"
      },
      "execution_count": 37,
      "outputs": []
    },
    {
      "cell_type": "code",
      "source": [
        "# Training loop\n",
        "\n",
        "# Train model for 300 epochs\n",
        "epochs = 300\n",
        "\n",
        "\n",
        "for epoch in range(epochs):\n",
        "  ### Training\n",
        "\n",
        "  # Put model in train mode\n",
        "  model.train()\n",
        "\n",
        "  # 1. Forward pass\n",
        "  Y_pred = model(X_train)\n",
        "\n",
        "  # 2. Calculate loss\n",
        "  loss = loss_function(Y_pred, Y_train)\n",
        "\n",
        "  # 3. Zero gradients\n",
        "  optimizer.zero_grad()\n",
        "\n",
        "  # 4. Backpropagation\n",
        "  loss.backward()\n",
        "\n",
        "  # 5. Step the optimizer\n",
        "  optimizer.step()\n",
        "\n",
        "  ### Perform testing every 20 epochs\n",
        "  if epoch % 20 == 0:\n",
        "\n",
        "    # Put model in evaluation mode and setup inference context\n",
        "    model.eval()\n",
        "    with torch.inference_mode():\n",
        "      # 1. Forward pass\n",
        "      Y_test_pred = model(X_test)\n",
        "      # 2. Calculate test loss\n",
        "      test_loss = loss_function(Y_test_pred, Y_test)\n",
        "      # Print out what's happening\n",
        "      print(f\"Epoch: {epoch} | Train loss: {loss:.3f} | Test loss: {test_loss:.3f}\")"
      ],
      "metadata": {
        "id": "xpE83NvNnkdV",
        "outputId": "d9651911-628d-439a-b777-a6052c6df7e0",
        "colab": {
          "base_uri": "https://localhost:8080/"
        }
      },
      "execution_count": 38,
      "outputs": [
        {
          "output_type": "stream",
          "name": "stdout",
          "text": [
            "Epoch: 0 | Train loss: 123.355 | Test loss: 94.813\n",
            "Epoch: 20 | Train loss: 18.812 | Test loss: 6.819\n",
            "Epoch: 40 | Train loss: 17.725 | Test loss: 7.871\n",
            "Epoch: 60 | Train loss: 16.752 | Test loss: 8.811\n",
            "Epoch: 80 | Train loss: 16.239 | Test loss: 9.307\n",
            "Epoch: 100 | Train loss: 15.727 | Test loss: 9.803\n",
            "Epoch: 120 | Train loss: 15.214 | Test loss: 10.299\n",
            "Epoch: 140 | Train loss: 14.701 | Test loss: 10.795\n",
            "Epoch: 160 | Train loss: 14.188 | Test loss: 11.291\n",
            "Epoch: 180 | Train loss: 13.982 | Test loss: 11.490\n",
            "Epoch: 200 | Train loss: 13.852 | Test loss: 11.616\n",
            "Epoch: 220 | Train loss: 13.723 | Test loss: 11.741\n",
            "Epoch: 240 | Train loss: 13.593 | Test loss: 11.866\n",
            "Epoch: 260 | Train loss: 13.464 | Test loss: 11.991\n",
            "Epoch: 280 | Train loss: 13.334 | Test loss: 12.116\n"
          ]
        }
      ]
    },
    {
      "cell_type": "markdown",
      "source": [
        "## 4. Make predictions with the trained model on the test data.\n",
        "  * Visualize these predictions against the original training and testing data (**note:** you may need to make sure the predictions are *not* on the GPU if you want to use non-CUDA-enabled libraries such as matplotlib to plot)."
      ],
      "metadata": {
        "id": "x4j4TM18jwa7"
      }
    },
    {
      "cell_type": "code",
      "source": [
        "# Make predictions with the model\n",
        "model.eval()\n",
        "with torch.inference_mode():\n",
        "  predictions = model(X_test)"
      ],
      "metadata": {
        "id": "bbMPK5Qjjyx_"
      },
      "execution_count": 66,
      "outputs": []
    },
    {
      "cell_type": "code",
      "source": [
        "# Plot the predictions (these may need to be on a specific device)\n",
        "plot_data(prediction = predictions)\n"
      ],
      "metadata": {
        "id": "K3BdmQaDpFo8",
        "outputId": "ff87c4fa-09a5-4380-a356-f851f6f3a07b",
        "colab": {
          "base_uri": "https://localhost:8080/",
          "height": 430
        }
      },
      "execution_count": 67,
      "outputs": [
        {
          "output_type": "display_data",
          "data": {
            "text/plain": [
              "<Figure size 640x480 with 1 Axes>"
            ],
            "image/png": "[encoded data removed]"
          },
          "metadata": {}
        }
      ]
    },
    {
      "cell_type": "markdown",
      "source": [
        "## 5. Save your trained model's `state_dict()` to file.\n",
        "  * Create a new instance of your model class you made in 2. and load in the `state_dict()` you just saved to it.\n",
        "  * Perform predictions on your test data with the loaded model and confirm they match the original model predictions from 4."
      ],
      "metadata": {
        "id": "s2OnlMWKjzX8"
      }
    },
    {
      "cell_type": "code",
      "source": [
        "from pathlib import Path\n",
        "\n",
        "# 1. Create models directory\n",
        "MODEL_PATH = Path(\"model\")\n",
        "MODEL_PATH.mkdir(parents = True, exist_ok = True)\n",
        "# 2. Create model save path\n",
        "MODEL_NAME = \"exercise_01\"\n",
        "MODEL_SAVE_PATH = MODEL_PATH / MODEL_NAME\n",
        "MODEL_SAVE_PATH\n",
        "\n",
        "# 3. Save the model state dict\n",
        "torch.save(obj = model.state_dict(), f = MODEL_SAVE_PATH)"
      ],
      "metadata": {
        "id": "hgxhgD14qr-i"
      },
      "execution_count": 69,
      "outputs": []
    },
    {
      "cell_type": "code",
      "source": [
        "# Create new instance of model and load saved state dict (make sure to put it on the target device)\n",
        "loaded_model = LinearRegression()\n",
        "loaded_model.cuda()\n",
        "loaded_model.state_dict()"
      ],
      "metadata": {
        "id": "P9vTgiLRrJ7T",
        "outputId": "67effb15-121e-4e03-bcea-d8fb19af8a18",
        "colab": {
          "base_uri": "https://localhost:8080/"
        }
      },
      "execution_count": 85,
      "outputs": [
        {
          "output_type": "execute_result",
          "data": {
            "text/plain": [
              "OrderedDict([('bias', tensor([-1.1845], device='cuda:0')),\n",
              "             ('weight', tensor([1.7202], device='cuda:0'))])"
            ]
          },
          "metadata": {},
          "execution_count": 85
        }
      ]
    },
    {
      "cell_type": "code",
      "source": [
        "# Make predictions with loaded model and compare them to the previous\n",
        "loaded_model.load_state_dict(torch.load(f = MODEL_SAVE_PATH))"
      ],
      "metadata": {
        "id": "8UGX3VebrVtI",
        "outputId": "f9052152-e1e1-48ae-88a4-e51055a7f6b6",
        "colab": {
          "base_uri": "https://localhost:8080/"
        }
      },
      "execution_count": 86,
      "outputs": [
        {
          "output_type": "stream",
          "name": "stderr",
          "text": [
            "<ipython-input-86-3ecd707d451b>:2: FutureWarning: You are using `torch.load` with `weights_only=False` (the current default value), which uses the default pickle module implicitly. It is possible to construct malicious pickle data which will execute arbitrary code during unpickling (See https://github.com/pytorch/pytorch/blob/main/SECURITY.md#untrusted-models for more details). In a future release, the default value for `weights_only` will be flipped to `True`. This limits the functions that could be executed during unpickling. Arbitrary objects will no longer be allowed to be loaded via this mode unless they are explicitly allowlisted by the user via `torch.serialization.add_safe_globals`. We recommend you start setting `weights_only=True` for any use case where you don't have full control of the loaded file. Please open an issue on GitHub for any issues related to this experimental feature.\n",
            "  loaded_model.load_state_dict(torch.load(f = MODEL_SAVE_PATH))\n"
          ]
        },
        {
          "output_type": "execute_result",
          "data": {
            "text/plain": [
              "<All keys matched successfully>"
            ]
          },
          "metadata": {},
          "execution_count": 86
        }
      ]
    },
    {
      "cell_type": "code",
      "source": [
        "loaded_model.state_dict()"
      ],
      "metadata": {
        "id": "3t6mVA1u1zNw",
        "outputId": "366b9a0e-06c9-40f3-8267-d3aad0d5aa3c",
        "colab": {
          "base_uri": "https://localhost:8080/"
        }
      },
      "execution_count": 87,
      "outputs": [
        {
          "output_type": "execute_result",
          "data": {
            "text/plain": [
              "OrderedDict([('bias', tensor([0.1726], device='cuda:0')),\n",
              "             ('weight', tensor([0.0543], device='cuda:0'))])"
            ]
          },
          "metadata": {},
          "execution_count": 87
        }
      ]
    },
    {
      "cell_type": "code",
      "source": [
        "loaded_model(X_train)"
      ],
      "metadata": {
        "id": "zI_EAsF-12uP",
        "outputId": "0ef631b3-c66d-41e8-a43d-89dde3635624",
        "colab": {
          "base_uri": "https://localhost:8080/"
        }
      },
      "execution_count": 88,
      "outputs": [
        {
          "output_type": "execute_result",
          "data": {
            "text/plain": [
              "tensor([3.7578, 0.4442, 4.8443, 4.4640, 2.5628, 1.3134, 2.8887, 4.3554, 2.2368,\n",
              "        2.0196, 4.4097, 0.6615, 4.6813, 4.0838, 2.3998, 1.8566, 3.9208, 1.2591,\n",
              "        5.4418, 4.3010, 5.0072, 4.6270, 3.8665, 2.9973, 1.7480, 4.5727, 1.8023,\n",
              "        4.9529, 2.7257, 1.9652, 5.2788, 3.8122, 0.8245, 3.4319, 1.1504, 3.2689,\n",
              "        3.4862, 5.5504, 4.5183, 0.7702, 0.6072, 3.6492, 4.8986, 2.9430, 5.3332,\n",
              "        3.5406, 2.5084, 3.3233, 0.5529, 5.4961, 1.0961, 0.2270, 0.9875, 0.3899,\n",
              "        3.0517, 4.7899, 1.6393, 1.5307, 0.8788, 5.3875, 2.1282, 3.2146, 2.8344,\n",
              "        5.2245, 2.1825, 0.7158, 1.6936, 0.3356, 5.0615, 3.9751, 3.3776, 0.9331,\n",
              "        2.4541, 1.5850, 4.1381, 1.3677, 2.3455, 1.9109, 3.7035, 4.2467],\n",
              "       device='cuda:0', grad_fn=<AddBackward0>)"
            ]
          },
          "metadata": {},
          "execution_count": 88
        }
      ]
    }
  ]
}